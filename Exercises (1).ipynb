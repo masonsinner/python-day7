{
 "cells": [
  {
   "cell_type": "markdown",
   "metadata": {},
   "source": [
    "#### Exercise 1 - Class Inheritance"
   ]
  },
  {
   "cell_type": "markdown",
   "metadata": {},
   "source": [
    "Create an Employee class that sets an employee's first name, last name, job title, salary, and email. The Employee class should have a class attribute for the raise amount set to 5% (1.05). Create a method that will apply the raise to an employee's salary."
   ]
  },
  {
   "cell_type": "code",
   "execution_count": 11,
   "metadata": {},
   "outputs": [
    {
     "name": "stdout",
     "output_type": "stream",
     "text": [
      "78750\n",
      "89250\n"
     ]
    }
   ],
   "source": [
    "class Employee():\n",
    "    raise_amount = 1.05\n",
    "    \n",
    "    def __init__(self, first, last, salary):\n",
    "        self.first = first\n",
    "        self.last = last\n",
    "        self.salary = salary\n",
    "        self.email = first + \".\" + last + \"@company.org\"\n",
    "        \n",
    "    def apply_raise(self):\n",
    "        self.salary = int(self.salary * self.raise_amount)\n",
    "        \n",
    "e1 = Employee('Dwight', 'Schrute', 75000)\n",
    "e2 = Employee('Ron', 'Swanson', 85000)\n",
    "\n",
    "e1.apply_raise()\n",
    "print(e1.salary)\n",
    "e2.apply_raise()\n",
    "print(e2.salary)"
   ]
  },
  {
   "cell_type": "markdown",
   "metadata": {},
   "source": [
    "Create two more classes that inherit from the Employee class. One for Sales and one for Development. Both of these classes will have the same attributes as the Employee.<br>\n",
    "- For the Sales employees, add a phone number attribute on instantiation using the super method. \n",
    "- Create a method on the Sales class that will Send a Follow Up Email. It should take in a customer name and \"send\" aka print a formatted email \"Dear *customer*, Thank you for your interest in our product. Please let me know if you have any questions. My email is *email* or my phone number is *phone number*. Thanks, *full name*\"\n",
    "- Create a method on the Development class called code that will print out \"*full name* is writing code\"."
   ]
  },
  {
   "cell_type": "code",
   "execution_count": 31,
   "metadata": {},
   "outputs": [
    {
     "name": "stdout",
     "output_type": "stream",
     "text": [
      "Dear Ellen, \n",
      "\t Thank you for your interest in our product. Please let me know if you have any questions. \n",
      " My email is Dwight.Schrute@company.org or my phone number is 555-555-5555. \n",
      " Thanks, \n",
      " Dwight Schrute\n",
      "I Ron Swanson am writing code\n"
     ]
    }
   ],
   "source": [
    "class Sales(Employee):\n",
    "    \n",
    "    def __init__(self, first, last, salary, phone):\n",
    "        super().__init__(first, last, salary)\n",
    "        self.phone = phone\n",
    "        \n",
    "    def follow_up(self, customer):\n",
    "        self.customer = customer\n",
    "        print (f\"Dear {self.customer}, \\n\\t Thank you for your interest in our product. Please let me know if you have any questions. \\n My email is {self.email} or my phone number is {self.phone}. \\n Thanks, \\n {self.first} {self.last}\")\n",
    "\n",
    "class Development(Employee):\n",
    "    \n",
    "    def __init__(self, first, last, salary):\n",
    "        super().__init__(first, last, salary)\n",
    "        \n",
    "    def code(self):\n",
    "        print(f\"I {self.first} {self.last} am writing code\")\n",
    "        \n",
    "e1 = Sales('Dwight', 'Schrute', 75000, phone = '555-555-5555')\n",
    "e1.follow_up('Ellen')\n",
    "e2 = Development('Ron', 'Swanson', 85000)\n",
    "e2.code()"
   ]
  },
  {
   "cell_type": "markdown",
   "metadata": {},
   "source": [
    "- Create an instance of a Sales Employee with a salary of $50,000.\n",
    "- Send follow up emails to \"Mike O'Neil\" and \"Hannah Stern\"\n",
    "- Give the employee a raise and print the salary"
   ]
  },
  {
   "cell_type": "code",
   "execution_count": 92,
   "metadata": {},
   "outputs": [
    {
     "name": "stdout",
     "output_type": "stream",
     "text": [
      "Dear Mike O'Neil, \n",
      "\t Thank you for your interest in our product. Please let me know if you have any questions. \n",
      " My email is John.Doe@company.org or my phone number is -9999. \n",
      " Thanks, \n",
      " John Doe\n",
      "Dear Hannah Stern, \n",
      "\t Thank you for your interest in our product. Please let me know if you have any questions. \n",
      " My email is Dwight.Schrute@company.org or my phone number is 555-555-5555. \n",
      " Thanks, \n",
      " Dwight Schrute\n",
      "52500\n"
     ]
    }
   ],
   "source": [
    "e3 = Sales('John', 'Doe', 50000, 999-999-9999)\n",
    "# mike = Sales('Mike', \"O'neil\", 0, 0)\n",
    "# hannah = Sales(\"Hannah\", \"Stern\", 0, 0)\n",
    "\n",
    "# hannah.follow_up()\n",
    "# mike.follow_up()\n",
    "\n",
    "e3.follow_up(\"Mike O'Neil\")\n",
    "e1.follow_up(\"Hannah Stern\")\n",
    "e3.apply_raise()\n",
    "print(e3.salary)"
   ]
  },
  {
   "cell_type": "markdown",
   "metadata": {},
   "source": [
    "- Create an instance of a Development Employee with a salary of $100,000\n",
    "- Write some code with this employee\n",
    "- Give the employee a raise and print the salary"
   ]
  },
  {
   "cell_type": "code",
   "execution_count": 93,
   "metadata": {},
   "outputs": [
    {
     "name": "stdout",
     "output_type": "stream",
     "text": [
      "I Bill Jobs am writing code\n",
      "105000\n"
     ]
    }
   ],
   "source": [
    "e4 = Development('Bill', 'Jobs', 100000)\n",
    "\n",
    "e4.code()\n",
    "\n",
    "e4.apply_raise()\n",
    "print(e4.salary)"
   ]
  },
  {
   "cell_type": "markdown",
   "metadata": {},
   "source": [
    "#### Exercise 2 - Importing Modules"
   ]
  },
  {
   "cell_type": "markdown",
   "metadata": {},
   "source": [
    "In VS Code, create a module titled `geometry` and add two functions in there. One that will calculate the area of a circle given a radius. The second will find the hypotenuse of a right angle given the two sides. Import the module or the functions from the module and use it to find the answers to the below questions"
   ]
  },
  {
   "cell_type": "markdown",
   "metadata": {},
   "source": [
    "What is the area of a circle with a radius of 7cm?"
   ]
  },
  {
   "cell_type": "code",
   "execution_count": 99,
   "metadata": {},
   "outputs": [
    {
     "data": {
      "text/plain": [
       "153.93804002589985"
      ]
     },
     "execution_count": 99,
     "metadata": {},
     "output_type": "execute_result"
    }
   ],
   "source": [
    "from geometry import area_of_circle, get_hypotenuse\n",
    "\n",
    "area_of_circle(7)"
   ]
  },
  {
   "cell_type": "markdown",
   "metadata": {},
   "source": [
    "What is the hypotenuse of a right angle with sides of 3in and 4in?"
   ]
  },
  {
   "cell_type": "code",
   "execution_count": 100,
   "metadata": {},
   "outputs": [
    {
     "data": {
      "text/plain": [
       "5.0"
      ]
     },
     "execution_count": 100,
     "metadata": {},
     "output_type": "execute_result"
    }
   ],
   "source": [
    "get_hypotenuse(3, 4)"
   ]
  }
 ],
 "metadata": {
  "kernelspec": {
   "display_name": "Python 3 (ipykernel)",
   "language": "python",
   "name": "python3"
  },
  "language_info": {
   "codemirror_mode": {
    "name": "ipython",
    "version": 3
   },
   "file_extension": ".py",
   "mimetype": "text/x-python",
   "name": "python",
   "nbconvert_exporter": "python",
   "pygments_lexer": "ipython3",
   "version": "3.10.9"
  }
 },
 "nbformat": 4,
 "nbformat_minor": 4
}
